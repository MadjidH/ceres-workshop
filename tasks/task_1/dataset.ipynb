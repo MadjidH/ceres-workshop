{
 "cells": [
  {
   "cell_type": "markdown",
   "id": "a35480c9-918f-4c26-b737-bf3066bffd2d",
   "metadata": {},
   "source": [
    "# Investigating the dataset"
   ]
  },
  {
   "cell_type": "code",
   "execution_count": null,
   "id": "2ff89559-8707-4e57-8cd1-fc76d290829b",
   "metadata": {},
   "outputs": [],
   "source": [
    "import matplotlib.pyplot as plt\n",
    "import numpy as np\n",
    "import pandas\n",
    "\n",
    "from utils import load_data_from_json, array_to_rgb_image, array_to_rgb_histogram"
   ]
  },
  {
   "cell_type": "markdown",
   "id": "606a1ac5-63cc-4f7f-93bb-659b3b131e22",
   "metadata": {},
   "source": [
    "## Read in the raw data from JSON file\n",
    "\n",
    "Note that ``obj?`` is an IPython-specific syntax that is similar to ``help(obj)``"
   ]
  },
  {
   "cell_type": "code",
   "execution_count": null,
   "id": "5dffbb49-3888-4e58-914c-8ca328ddd531",
   "metadata": {},
   "outputs": [],
   "source": [
    "load_data_from_json?"
   ]
  },
  {
   "cell_type": "code",
   "execution_count": null,
   "id": "0c596b38-2e78-4a15-87bd-a079f9c0c3a9",
   "metadata": {},
   "outputs": [],
   "source": [
    "RAW_DATA = load_data_from_json()\n",
    "\n",
    "dataframe = pandas.DataFrame(RAW_DATA)"
   ]
  },
  {
   "cell_type": "markdown",
   "id": "adfd7615-f0b6-43f4-9688-17309bc71ba0",
   "metadata": {},
   "source": [
    "## Dataset structure and properties\n",
    "\n",
    "Use the cells below to investigate the structure and properties of the dataset."
   ]
  },
  {
   "cell_type": "code",
   "execution_count": null,
   "id": "7a4ee496-3874-4fd7-98c1-5dcf0e610adf",
   "metadata": {},
   "outputs": [],
   "source": [
    "dataframe.info()"
   ]
  },
  {
   "cell_type": "code",
   "execution_count": null,
   "id": "b2a29e06-02b8-498a-8a1c-720f07211435",
   "metadata": {},
   "outputs": [],
   "source": [
    "dataframe[\"labels\"]"
   ]
  },
  {
   "cell_type": "code",
   "execution_count": null,
   "id": "a048ec5a-9d65-4051-a120-4f76d5379e6b",
   "metadata": {},
   "outputs": [],
   "source": [
    "x=dataframe[\"labels\"]==0"
   ]
  },
  {
   "cell_type": "code",
   "execution_count": null,
   "id": "ea70c0da-0f5f-4790-a4bc-4a384a7982cf",
   "metadata": {},
   "outputs": [],
   "source": [
    "dataframe[x]"
   ]
  },
  {
   "cell_type": "code",
   "execution_count": null,
   "id": "10cb1a77-268b-4a8a-8bcd-db3db8844e31",
   "metadata": {},
   "outputs": [],
   "source": [
    "dataframe[\"data\"]"
   ]
  },
  {
   "cell_type": "code",
   "execution_count": null,
   "id": "ab58be03-7c79-40a1-ac6c-c7b1521c3543",
   "metadata": {},
   "outputs": [],
   "source": []
  },
  {
   "cell_type": "markdown",
   "id": "2b2fdbc4-c661-4b5d-a66b-5eee73ae0521",
   "metadata": {},
   "source": [
    "## Sample images\n",
    "\n",
    "Use the cells below to display some of the images from the dataset, and histograms of their red/blue/green pixel intensities."
   ]
  },
  {
   "cell_type": "code",
   "execution_count": null,
   "id": "1b1475de-a505-4a01-9021-eac286d458c4",
   "metadata": {},
   "outputs": [],
   "source": [
    "array_to_rgb_image?\n",
    "#array_to_rgb_histogram?"
   ]
  },
  {
   "cell_type": "code",
   "execution_count": null,
   "id": "735da279-eaf0-4ef0-a212-a900d1fd8b62",
   "metadata": {},
   "outputs": [],
   "source": []
  },
  {
   "cell_type": "markdown",
   "id": "c32d9e10-13f2-4c72-b4fb-b75d4ba79c2e",
   "metadata": {},
   "source": [
    "## Visualisation of the dataset on a map\n",
    "\n",
    "Use the cells below to display a visualisation of the locations of the images on a map.\n",
    "\n",
    "**This is an extension task!**"
   ]
  },
  {
   "cell_type": "code",
   "execution_count": null,
   "id": "683b8dc3-57af-4504-abf5-c2b102106149",
   "metadata": {},
   "outputs": [],
   "source": []
  }
 ],
 "metadata": {
  "kernelspec": {
   "display_name": "Python 3 (ipykernel)",
   "language": "python",
   "name": "python3"
  },
  "language_info": {
   "codemirror_mode": {
    "name": "ipython",
    "version": 3
   },
   "file_extension": ".py",
   "mimetype": "text/x-python",
   "name": "python",
   "nbconvert_exporter": "python",
   "pygments_lexer": "ipython3",
   "version": "3.9.13"
  }
 },
 "nbformat": 4,
 "nbformat_minor": 5
}
